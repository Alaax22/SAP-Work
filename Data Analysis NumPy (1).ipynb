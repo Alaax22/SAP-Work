{
 "cells": [
  {
   "cell_type": "code",
   "execution_count": 1,
   "id": "dfcb73ce",
   "metadata": {},
   "outputs": [
    {
     "name": "stdout",
     "output_type": "stream",
     "text": [
      "[[2 3 5 6]\n",
      " [3 6 7 3]]\n",
      "\n",
      "2\n",
      "\n",
      "(2, 4)\n",
      "\n",
      "<memory at 0x000002F5E30741E0>\n",
      "\n",
      "<class 'numpy.ndarray'>\n"
     ]
    }
   ],
   "source": [
    "import numpy as np\n",
    "a1=np.array([[2,3,5,6],[3,6,7,3]])\n",
    "print(a1)\n",
    "print()\n",
    "print(a1.ndim)\n",
    "print()\n",
    "print(a1.shape)\n",
    "print()\n",
    "print(a1.data)\n",
    "print()\n",
    "print(type(a1))"
   ]
  },
  {
   "cell_type": "code",
   "execution_count": 2,
   "id": "2b5fae2b",
   "metadata": {},
   "outputs": [
    {
     "name": "stdout",
     "output_type": "stream",
     "text": [
      "[[78. 45. 62.]\n",
      " [89.  5.  4.]]\n",
      "\n",
      "float64\n",
      "<class 'numpy.ndarray'>\n",
      "6\n",
      "2\n",
      "(2, 3)\n",
      "8\n"
     ]
    }
   ],
   "source": [
    "b1=np.array([[78,45,62],[89,5,4]],dtype=np.float64)\n",
    "print(b1)\n",
    "print()\n",
    "print(b1.dtype)\n",
    "print(type(b1))\n",
    "print(b1.size)\n",
    "print(b1.ndim)\n",
    "print(b1.shape)\n",
    "print(b1.itemsize)"
   ]
  },
  {
   "cell_type": "code",
   "execution_count": 3,
   "id": "5277574f",
   "metadata": {},
   "outputs": [
    {
     "name": "stdout",
     "output_type": "stream",
     "text": [
      "<U1\n",
      "2\n",
      "4\n",
      "(2,)\n"
     ]
    }
   ],
   "source": [
    "c1=np.array([\"l\",\"a\"])\n",
    "print(c1.dtype)\n",
    "print(c1.size)\n",
    "print(c1.itemsize)\n",
    "print(c1.shape)"
   ]
  },
  {
   "cell_type": "code",
   "execution_count": 4,
   "id": "02f53a7b",
   "metadata": {},
   "outputs": [
    {
     "name": "stdout",
     "output_type": "stream",
     "text": [
      "[[78.+0.j 45.+0.j 62.+0.j]\n",
      " [89.+0.j  5.+0.j  4.+0.j]]\n",
      "\n",
      "complex64\n",
      "\n",
      "8\n",
      "\n",
      "6\n",
      "[[78.+0.j 45.+0.j 62.+0.j]\n",
      " [89.+0.j  5.+0.j  4.+0.j]]\n",
      "\n",
      "complex128\n",
      "\n",
      "16\n",
      "\n",
      "6\n"
     ]
    }
   ],
   "source": [
    "b1=np.array([[78,45,62],[89,5,4]],dtype=np.complex64)\n",
    "\n",
    "print(b1)\n",
    "print()\n",
    "print(b1.dtype)\n",
    "print()\n",
    "print(b1.itemsize)\n",
    "print()\n",
    "print(b1.size)\n",
    "b1=np.array([[78,45,62],[89,5,4]],dtype=np.complex128)\n",
    "print(b1)\n",
    "print()\n",
    "print(b1.dtype)\n",
    "print()\n",
    "print(b1.itemsize)\n",
    "print()\n",
    "print(b1.size)"
   ]
  },
  {
   "cell_type": "code",
   "execution_count": 5,
   "id": "f2eb5273",
   "metadata": {},
   "outputs": [
    {
     "name": "stdout",
     "output_type": "stream",
     "text": [
      "[[78. 45. 62.]\n",
      " [89.  5.  4.]]\n"
     ]
    }
   ],
   "source": [
    "b1=np.array([[78,45,62],[89,5,4]],dtype=np.float64)\n",
    "print(b1)\n"
   ]
  },
  {
   "cell_type": "code",
   "execution_count": 6,
   "id": "5b8858dc",
   "metadata": {},
   "outputs": [
    {
     "name": "stdout",
     "output_type": "stream",
     "text": [
      "[167.  50.  66.]\n",
      "[185.  98.]\n"
     ]
    }
   ],
   "source": [
    "print(np.sum(b1,axis=0))#col\n",
    "print(np.sum(b1,axis=1))#row"
   ]
  },
  {
   "cell_type": "code",
   "execution_count": 7,
   "id": "15c8e473",
   "metadata": {},
   "outputs": [
    {
     "name": "stdout",
     "output_type": "stream",
     "text": [
      "4.0\n",
      "[78.  5.  4.]\n",
      "[45.  4.]\n"
     ]
    }
   ],
   "source": [
    "print(np.amin(b1))#min value\n",
    "print(np.amin(b1,axis=0))\n",
    "print(np.amin(b1,axis=1))"
   ]
  },
  {
   "cell_type": "code",
   "execution_count": 8,
   "id": "27448a14",
   "metadata": {},
   "outputs": [
    {
     "name": "stdout",
     "output_type": "stream",
     "text": [
      "89.0\n",
      "[89. 45. 62.]\n",
      "[78. 89.]\n"
     ]
    }
   ],
   "source": [
    "print(np.amax(b1))#max value\n",
    "print(np.amax(b1,axis=0))\n",
    "print(np.amax(b1,axis=1))"
   ]
  },
  {
   "cell_type": "code",
   "execution_count": 9,
   "id": "52ee4e8c",
   "metadata": {},
   "outputs": [
    {
     "name": "stdout",
     "output_type": "stream",
     "text": [
      "47.166666666666664\n",
      "[83.5 25.  33. ]\n",
      "[61.66666667 32.66666667]\n",
      "\n",
      "47.166666666666664\n",
      "[83.5 25.  33. ]\n",
      "[61.66666667 32.66666667]\n"
     ]
    }
   ],
   "source": [
    "print(np.mean(b1))#mean value\n",
    "print(np.mean(b1,axis=0))\n",
    "print(np.mean(b1,axis=1))\n",
    "print()\n",
    "print(np.average(b1))#avg value\n",
    "print(np.average(b1,axis=0))\n",
    "print(np.average(b1,axis=1))\n"
   ]
  },
  {
   "cell_type": "code",
   "execution_count": 10,
   "id": "67d9ac4c",
   "metadata": {},
   "outputs": [
    {
     "name": "stdout",
     "output_type": "stream",
     "text": [
      "33.08280856006972\n",
      "[ 5.5 20.  29. ]\n",
      "[13.47425529 39.83577398]\n"
     ]
    }
   ],
   "source": [
    "print(np.std(b1))#std value\n",
    "print(np.std(b1,axis=0))\n",
    "print(np.std(b1,axis=1))"
   ]
  },
  {
   "cell_type": "code",
   "execution_count": 11,
   "id": "1552d133",
   "metadata": {},
   "outputs": [
    {
     "name": "stdout",
     "output_type": "stream",
     "text": [
      "1094.4722222222224\n",
      "[ 30.25 400.   841.  ]\n",
      "[ 181.55555556 1586.88888889]\n"
     ]
    }
   ],
   "source": [
    "print(np.var(b1))#var value\n",
    "print(np.var(b1,axis=0))\n",
    "print(np.var(b1,axis=1))"
   ]
  },
  {
   "cell_type": "code",
   "execution_count": 12,
   "id": "c5ea9eb6",
   "metadata": {},
   "outputs": [
    {
     "name": "stdout",
     "output_type": "stream",
     "text": [
      "53.5\n",
      "[83.5 25.  33. ]\n",
      "[62.  5.]\n"
     ]
    }
   ],
   "source": [
    "print(np.median(b1))#median value\n",
    "print(np.median(b1,axis=0))\n",
    "print(np.median(b1,axis=1))"
   ]
  },
  {
   "cell_type": "code",
   "execution_count": 13,
   "id": "a5962e03",
   "metadata": {},
   "outputs": [
    {
     "name": "stdout",
     "output_type": "stream",
     "text": [
      "5.479683107590084\n"
     ]
    }
   ],
   "source": [
    "array=np.array([3,5,3,6,8,9,4])\n",
    "w1=np.array([4.6,5.9,3.5,3.6,7.6,4.5,9.43])\n",
    "n=np.average(array,weights=w1)\n",
    "print(n)"
   ]
  },
  {
   "cell_type": "code",
   "execution_count": 14,
   "id": "d47e6c46",
   "metadata": {},
   "outputs": [
    {
     "name": "stdout",
     "output_type": "stream",
     "text": [
      "3.0\n",
      "\n",
      "[47.652  4.156]\n",
      "\n",
      "[78.858  8.12   8.524]\n",
      "\n",
      "[[78. 45. 62.]\n",
      " [89.  5.  4.]]\n"
     ]
    }
   ],
   "source": [
    "print(np.percentile(array,7.8))\n",
    "print()\n",
    "print(np.percentile(b1,7.8,1))\n",
    "print()\n",
    "print(np.percentile(b1,7.8,0))\n",
    "print()\n",
    "print(b1)"
   ]
  },
  {
   "cell_type": "code",
   "execution_count": 15,
   "id": "e2dc5d90",
   "metadata": {},
   "outputs": [
    {
     "name": "stdout",
     "output_type": "stream",
     "text": [
      "[3 5 3 6 8 9 4]\n",
      "\n",
      "[[78. 45. 62.]\n",
      " [89.  5.  4.]]\n",
      "\n",
      "6\n",
      "[11. 40. 58.]\n",
      "[33. 85.]\n"
     ]
    }
   ],
   "source": [
    "print(array)\n",
    "print()\n",
    "print(b1)\n",
    "print()\n",
    "print(np.ptp(array,0))\n",
    "print(np.ptp(b1,0))\n",
    "print(np.ptp(b1,1))"
   ]
  },
  {
   "cell_type": "code",
   "execution_count": 16,
   "id": "2d111af2",
   "metadata": {},
   "outputs": [
    {
     "name": "stdout",
     "output_type": "stream",
     "text": [
      "(2, 4)\n",
      "\n",
      "[[56 75 34 23]\n",
      " [ 4  7  3  2]]\n",
      "\n",
      "[[56 75]\n",
      " [34 23]\n",
      " [ 4  7]\n",
      " [ 3  2]]\n"
     ]
    }
   ],
   "source": [
    "A1=np.array([[56,75,34,23],[4,7,3,2]])\n",
    "print(A1.shape)\n",
    "print()\n",
    "print(A1)\n",
    "print()\n",
    "print(A1.reshape(4,2))"
   ]
  },
  {
   "cell_type": "code",
   "execution_count": 17,
   "id": "895443b5",
   "metadata": {},
   "outputs": [
    {
     "name": "stdout",
     "output_type": "stream",
     "text": [
      "[[34 56 78 95]\n",
      " [98 34 89 54]\n",
      " [39 89 45 65]]\n",
      "\n",
      "95\n"
     ]
    }
   ],
   "source": [
    "#slicing\n",
    "l=np.array([[34,56,78,95],[98,34,89,54],[39,89,45,65]])\n",
    "print(l)\n",
    "print()\n",
    "print(l[0,3])"
   ]
  },
  {
   "cell_type": "code",
   "execution_count": null,
   "id": "fdc5066f",
   "metadata": {},
   "outputs": [],
   "source": []
  }
 ],
 "metadata": {
  "kernelspec": {
   "display_name": "Python 3 (ipykernel)",
   "language": "python",
   "name": "python3"
  },
  "language_info": {
   "codemirror_mode": {
    "name": "ipython",
    "version": 3
   },
   "file_extension": ".py",
   "mimetype": "text/x-python",
   "name": "python",
   "nbconvert_exporter": "python",
   "pygments_lexer": "ipython3",
   "version": "3.9.12"
  }
 },
 "nbformat": 4,
 "nbformat_minor": 5
}
