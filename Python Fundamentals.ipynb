{
 "cells": [
  {
   "cell_type": "code",
   "execution_count": 4,
   "id": "04c6edc4",
   "metadata": {},
   "outputs": [
    {
     "name": "stdout",
     "output_type": "stream",
     "text": [
      "5 9 1 0\n"
     ]
    }
   ],
   "source": [
    "#variables\n",
    "\n",
    "#declaring \n",
    "a=5\n",
    "b=9\n",
    "num_one=1\n",
    "_one=0\n",
    "#Note no hashtags in declaring variables and var do not start with number\n",
    "print(a,b,num_one,_one)"
   ]
  },
  {
   "cell_type": "code",
   "execution_count": 8,
   "id": "70055519",
   "metadata": {},
   "outputs": [
    {
     "name": "stdout",
     "output_type": "stream",
     "text": [
      "8 9 7\n",
      "8/9/7\n",
      "8*9*7\n",
      "8,9,7\n"
     ]
    }
   ],
   "source": [
    "#assigning\n",
    "a,b,c=8,9,7\n",
    "print(a,b,c)\n",
    "print(a,b,c,sep='/')\n",
    "print(a,b,c,sep='*')\n",
    "print(a,b,c,sep=',')\n",
    "a=b=c=1"
   ]
  },
  {
   "cell_type": "code",
   "execution_count": 33,
   "id": "ad071d64",
   "metadata": {},
   "outputs": [
    {
     "ename": "NameError",
     "evalue": "name 'key' is not defined",
     "output_type": "error",
     "traceback": [
      "\u001b[1;31m---------------------------------------------------------------------------\u001b[0m",
      "\u001b[1;31mNameError\u001b[0m                                 Traceback (most recent call last)",
      "Input \u001b[1;32mIn [33]\u001b[0m, in \u001b[0;36m<cell line: 23>\u001b[1;34m()\u001b[0m\n\u001b[0;32m     21\u001b[0m \u001b[38;5;66;03m#Dictionary\u001b[39;00m\n\u001b[0;32m     22\u001b[0m D\u001b[38;5;241m=\u001b[39m{\u001b[38;5;124m\"\u001b[39m\u001b[38;5;124mname\u001b[39m\u001b[38;5;124m\"\u001b[39m:\u001b[38;5;124m'\u001b[39m\u001b[38;5;124mlaxita\u001b[39m\u001b[38;5;124m'\u001b[39m,\u001b[38;5;124m\"\u001b[39m\u001b[38;5;124mroll_no\u001b[39m\u001b[38;5;124m\"\u001b[39m:\u001b[38;5;241m95\u001b[39m,\u001b[38;5;124m\"\u001b[39m\u001b[38;5;124mlastname\u001b[39m\u001b[38;5;124m\"\u001b[39m:\u001b[38;5;124m'\u001b[39m\u001b[38;5;124masodiya\u001b[39m\u001b[38;5;124m'\u001b[39m}\n\u001b[1;32m---> 23\u001b[0m \u001b[38;5;28mprint\u001b[39m(D(\u001b[43mkey\u001b[49m))\n\u001b[0;32m     24\u001b[0m \u001b[38;5;28mprint\u001b[39m(D(values))\n\u001b[0;32m     26\u001b[0m \u001b[38;5;66;03m#List\u001b[39;00m\n",
      "\u001b[1;31mNameError\u001b[0m: name 'key' is not defined"
     ]
    }
   ],
   "source": [
    "#Data Types\n",
    "\n",
    "#int\n",
    "a,b,c=1,5,6\n",
    "\n",
    "#float\n",
    "aa=7.8\n",
    "\n",
    "#complex number\n",
    "cc=7+9j\n",
    "\n",
    "#boolean\n",
    "t=True\n",
    "\n",
    "#set\n",
    "S={'laxita',6,'asodiya',(1,2,3)}\n",
    "\n",
    "#tuple\n",
    "T=(78,'laxita',8,9)\n",
    "\n",
    "#Dictionary\n",
    "D={\"name\":'laxita',\"roll_no\":95,\"lastname\":'asodiya'}\n",
    "print(D(key))\n",
    "print(D(values))\n",
    "\n",
    "#List\n",
    "L=['laxita',8,9,10]\n",
    "\n",
    "print(a,b,c,aa,cc,t,S,T,L,sep='\\n')\n",
    "\n",
    "print(D)\n",
    "print(len(S))\n"
   ]
  },
  {
   "cell_type": "code",
   "execution_count": 30,
   "id": "ecbb2887",
   "metadata": {},
   "outputs": [
    {
     "name": "stdout",
     "output_type": "stream",
     "text": [
      "True\n"
     ]
    },
    {
     "data": {
      "text/plain": [
       "False"
      ]
     },
     "execution_count": 30,
     "metadata": {},
     "output_type": "execute_result"
    }
   ],
   "source": [
    "x='laxita' in S\n",
    "print(x)\n",
    "7 in S"
   ]
  },
  {
   "cell_type": "code",
   "execution_count": 39,
   "id": "60c5ac3e",
   "metadata": {},
   "outputs": [
    {
     "name": "stdout",
     "output_type": "stream",
     "text": [
      "{6, 7, 12, 'asodiya', 'gauri', 'laxita', 90, 'roy'}\n",
      "{6, 7, 12, 'asodiya', 'gauri', 'laxita', 90, 'roy'}\n",
      "{6, 7, 12, 'asodiya', 'gauri', 'laxita', 90, 'roy'}\n",
      "{8, 10, 11, 12, 'gauri', 90, 'roy'}\n",
      "{'laxita', 'asodiya', 6, 7}{'gauri', 90, 'roy', 12}\n",
      "The difference is{'laxita', 'asodiya', 6, 7}\n",
      "{6, 7, 12, 'asodiya', 'gauri', 'laxita', 90, 'roy'}\n"
     ]
    }
   ],
   "source": [
    "S1={'laxita',6,'asodiya',7}\n",
    "S2={'gauri',12,'roy',90}# left to right\n",
    "print(S1|S2) #union\n",
    "print(S2|S1)\n",
    "print(S1.union(S2))\n",
    "print(S2.union((8,10,11)))#only tuple\n",
    "print(S1,S2,sep=\"\")\n",
    "print(\"The difference is\"+ str(S1.difference(S2)))\n",
    "\n",
    "print(S1^S2)#all element in one set  "
   ]
  },
  {
   "cell_type": "code",
   "execution_count": 40,
   "id": "82b5b59f",
   "metadata": {},
   "outputs": [
    {
     "data": {
      "text/plain": [
       "False"
      ]
     },
     "execution_count": 40,
     "metadata": {},
     "output_type": "execute_result"
    }
   ],
   "source": [
    "S1.issubset(S2)"
   ]
  },
  {
   "cell_type": "code",
   "execution_count": 48,
   "id": "643e3a76",
   "metadata": {},
   "outputs": [
    {
     "data": {
      "text/plain": [
       "True"
      ]
     },
     "execution_count": 48,
     "metadata": {},
     "output_type": "execute_result"
    }
   ],
   "source": [
    "S1>=S2"
   ]
  },
  {
   "cell_type": "code",
   "execution_count": 17,
   "id": "79b320b8",
   "metadata": {},
   "outputs": [
    {
     "name": "stdout",
     "output_type": "stream",
     "text": [
      "8\n",
      "8\n",
      "19\n",
      "\n",
      "['laxita', 8, 29, 30, 'cse', 45, 657, 86]\n",
      "(2, 4, 'laxita', 94, 3, 7, 8, 56)\n",
      "[29, 30]\n",
      "(2, 4)\n",
      "[29, 30]\n",
      "(2, 4)\n",
      "npto oa!\n",
      "\n",
      "NEGATIVE SLICING!\n",
      "['laxita', 8, 29, 30]\n",
      "(4, 'laxita', 94, 3)\n",
      "hon to\n"
     ]
    }
   ],
   "source": [
    "#Slicing of tuple,strings,lists\n",
    "\n",
    "L1=['laxita',8,29,30,'cse',45,657,86]\n",
    "T1=(2,4,'laxita',94,3,7,8,56)\n",
    "string1=\"learn python today!\"\n",
    "\n",
    "print(len(L1))\n",
    "print(len(T1))\n",
    "print(len(string1))\n",
    "print()\n",
    "print(L1[:])\n",
    "print(T1[:])\n",
    "\n",
    "print(L1[2:4])\n",
    "print(T1[:2])\n",
    "\n",
    "print(L1[2:4:])\n",
    "print(T1[:2])\n",
    "print(string1[4:19:2])\n",
    "print()\n",
    "\n",
    "print(\"NEGATIVE SLICING!\")\n",
    "print(L1[-8:-4])\n",
    "print(T1[-7:-3])\n",
    "print(string1[-10:-4])"
   ]
  },
  {
   "cell_type": "code",
   "execution_count": 37,
   "id": "af6b8919",
   "metadata": {},
   "outputs": [
    {
     "name": "stdout",
     "output_type": "stream",
     "text": [
      "let's learn pytho\n",
      "pyth\n",
      "\n",
      "n\n",
      "let's learn python\n",
      "\n",
      "let's learn python\n",
      "let's l\n",
      "learn python\n",
      "t's le\n",
      " learn\n"
     ]
    }
   ],
   "source": [
    "str=\"let's learn python\"\n",
    "print(str[:-1])\n",
    "print(str[-6:-2])\n",
    "print(str[-1:])\n",
    "print(str[-18:])\n",
    "print(str[-1:-18])\n",
    "\n",
    "\n",
    "print(str[:])\n",
    "print(str[:7])\n",
    "print(str[6:])\n",
    "print(str[2:8])\n",
    "print(str[5:11])"
   ]
  },
  {
   "cell_type": "code",
   "execution_count": 45,
   "id": "f13b5f04",
   "metadata": {},
   "outputs": [
    {
     "name": "stdout",
     "output_type": "stream",
     "text": [
      "(1, 3, 5, 6, 3, 6, 47, 7)\n",
      "(3, 6, 47, 7, 1, 3, 5, 6)\n",
      "\n",
      "['laxita', 'cse', 66, 77, 88, 78, 96, 46, 85]\n",
      "[78, 96, 46, 85, 'laxita', 'cse', 66, 77, 88]\n",
      "\n",
      "{36, 6, 7, 8, 9, 'laxita', 94}\n",
      "\n",
      "{'name': 'laxita', 'roll_no': 95, 'lastname': 'asodiya', 'girl': 'gauri', 'no': 99, 'sn': 'roy'}\n",
      "\n",
      "dict_keys(['name', 'roll_no', 'lastname', 'girl', 'no', 'sn']) dict_values(['laxita', 95, 'asodiya', 'gauri', 99, 'roy'])\n"
     ]
    }
   ],
   "source": [
    "#Concate two tuple,list,set or dict\n",
    "\n",
    "T1=(1,3,5,6)\n",
    "T2=(3,6,47,7)\n",
    "\n",
    "print(T1+T2)\n",
    "print(T2+T1)\n",
    "\n",
    "print()\n",
    "L1=['laxita','cse',66,77,88]\n",
    "L2=[78,96,46,85]\n",
    "print(L1+L2)\n",
    "print(L2+L1)\n",
    "print()\n",
    "S1={7,9,94,'laxita'}\n",
    "S2={6,8,36,9}\n",
    "print(S1|S2)\n",
    "print()\n",
    "dict1={\"name\":'laxita',\"roll_no\":95,\"lastname\":'asodiya'}\n",
    "dict2={\"girl\":'gauri',\"no\":99,\"sn\":'roy'}\n",
    "dict1.update(dict2)\n",
    "print(dict1)\n",
    "print()\n",
    "print(dict1.keys(),dict1.values())"
   ]
  },
  {
   "cell_type": "code",
   "execution_count": 34,
   "id": "208c174c",
   "metadata": {},
   "outputs": [
    {
     "name": "stdout",
     "output_type": "stream",
     "text": [
      "64\n",
      "1\n",
      "(1, 56, 34, 64, 23, 44, 'cse', 6, 7, 34, 'hello')\n",
      "('himani', 'gauri')\n",
      "['laxita', 'harshita', 'himani', 'gauri']\n",
      "both are not same !\n",
      "None\n",
      "(1, 56, 34, 64, 23, 44)\n",
      "('laxita', 'harshita', 'himani', 'gauri')\n"
     ]
    }
   ],
   "source": [
    "tuple1=(1,56,34,64,23,44)\n",
    "tuple2=(\"laxita\",\"harshita\",\"himani\",\"gauri\")\n",
    "tuple3=(\"cse\",6,7,34,\"hello\")\n",
    "\n",
    "maxtup=print(max(tuple1))\n",
    "mintup=print(min(tuple1))\n",
    "concate=print(tuple1+tuple3)\n",
    "slicetup=print(tuple2[2:5])\n",
    "l=print(list(tuple2))\n",
    "\n",
    "def cmp():\n",
    "    if tuple1==tuple2:\n",
    "        print(\"both tuple 1 and 2 are same!\")\n",
    "        \n",
    "    else:\n",
    "        print(\"both are not same !\")\n",
    "        \n",
    "print(cmp())\n",
    "print(tuple1)\n",
    "print(tuple2)"
   ]
  },
  {
   "cell_type": "code",
   "execution_count": 35,
   "id": "85c93f5e",
   "metadata": {},
   "outputs": [
    {
     "name": "stdout",
     "output_type": "stream",
     "text": [
      "<class 'int'>\n",
      "<class 'float'>\n",
      "7\n",
      "<class 'bool'>\n",
      "<class 'str'>\n"
     ]
    }
   ],
   "source": [
    "n1=5\n",
    "print(type(n1))\n",
    "n2=7.8\n",
    "print(type(n2))\n",
    "n3=int(n2)\n",
    "print(n3)\n",
    "b=True\n",
    "print(type(b))\n",
    "s=\"laxita\"\n",
    "print(type(s))"
   ]
  },
  {
   "cell_type": "code",
   "execution_count": 38,
   "id": "fa2bd4df",
   "metadata": {},
   "outputs": [
    {
     "name": "stdout",
     "output_type": "stream",
     "text": [
      " laxita asodiya santosh bhai\n"
     ]
    }
   ],
   "source": [
    "string=\"{1}{0}{2}\".format(\"asodiya \",\" laxita \",\"santosh bhai\")\n",
    "print(string)\n",
    "#positional format"
   ]
  },
  {
   "cell_type": "code",
   "execution_count": 39,
   "id": "e6b81702",
   "metadata": {},
   "outputs": [
    {
     "name": "stdout",
     "output_type": "stream",
     "text": [
      "university parul cse \n",
      "cse university parul \n"
     ]
    }
   ],
   "source": [
    "string1=\"{b}{a}{c}\".format(a=\"parul \",b=\"university \",c=\"cse \")\n",
    "print(string1)\n",
    "string1=\"{c}{b}{a}\".format(a=\"parul \",b=\"university \",c=\"cse \")\n",
    "print(string1)\n",
    "#key word format"
   ]
  },
  {
   "cell_type": "code",
   "execution_count": 40,
   "id": "b56247d3",
   "metadata": {},
   "outputs": [
    {
     "name": "stdout",
     "output_type": "stream",
     "text": [
      "[1, 4, 5, 'laxita', 8, 'himani', 7, 30, 12]\n",
      "[1, 4, 5, 'laxita', 8, 1, 4, 5, 'laxita', 8]\n",
      "['himani', 7, 30, 12, 1, 4, 5, 'laxita', 8]\n"
     ]
    }
   ],
   "source": [
    "L1=[1,4,5,'laxita',8]\n",
    "L2=['himani',7,30,12]\n",
    "print(L1+L2)\n",
    "print(2*L1)\n",
    "print(L2+L1)"
   ]
  },
  {
   "cell_type": "code",
   "execution_count": 41,
   "id": "b00e38cb",
   "metadata": {},
   "outputs": [
    {
     "name": "stdout",
     "output_type": "stream",
     "text": [
      "enter any random seq2 43 54 6 45 34\n",
      "['2', '43', '54', '6', '45', '34']\n"
     ]
    }
   ],
   "source": [
    "str=input(\"enter any random seq\") # 2 43 54 6 45 34\n",
    "result=str.split()\n",
    "print(result)"
   ]
  },
  {
   "cell_type": "code",
   "execution_count": 42,
   "id": "4d3b26d2",
   "metadata": {},
   "outputs": [
    {
     "name": "stdout",
     "output_type": "stream",
     "text": [
      "['', 'chool i', ' for ', 'chool going ', 'tudent', '']\n"
     ]
    }
   ],
   "source": [
    "str1=\"school is for school going students\"\n",
    "l=str1.split('s')\n",
    "print(l)"
   ]
  },
  {
   "cell_type": "code",
   "execution_count": 48,
   "id": "14c45009",
   "metadata": {},
   "outputs": [
    {
     "name": "stdout",
     "output_type": "stream",
     "text": [
      "[1000, 7, 7, 89, 97, 43]\n"
     ]
    }
   ],
   "source": [
    "#updation in tuple\n",
    "L=[56,7,7,89,97,43]\n",
    "tuple=(\"laxita\",45,\"himani\",89,55,95)\n",
    "L[0]=1000\n",
    "print(L)\n",
    "#tuple[2]=1000 #immutable\n"
   ]
  },
  {
   "cell_type": "code",
   "execution_count": 49,
   "id": "aeab6b7e",
   "metadata": {},
   "outputs": [
    {
     "name": "stdout",
     "output_type": "stream",
     "text": [
      "{'name': 'laxita', 95: 'roll number', 'dep': 'cse'}\n"
     ]
    }
   ],
   "source": [
    "dict={}\n",
    "dict['name']=\"laxita\"\n",
    "dict[95]=\"roll number\"\n",
    "dict[\"dep\"]=\"cse\"\n",
    "print(dict)"
   ]
  },
  {
   "cell_type": "code",
   "execution_count": 50,
   "id": "96cdf202",
   "metadata": {},
   "outputs": [
    {
     "name": "stdout",
     "output_type": "stream",
     "text": [
      "3.0\n",
      "3\n",
      "48\n",
      "52.800000000000004\n"
     ]
    }
   ],
   "source": [
    "print(12/4)\n",
    "print(12//4)\n",
    "print(12*4)\n",
    "print(12*4.4)"
   ]
  },
  {
   "cell_type": "code",
   "execution_count": 53,
   "id": "6e0c3594",
   "metadata": {},
   "outputs": [
    {
     "name": "stdout",
     "output_type": "stream",
     "text": [
      "2506801965360 2506801965360 2506801965360\n",
      "2506801965424 2506801965488 2506801965520\n"
     ]
    }
   ],
   "source": [
    "a=b=c=1\n",
    "print(id(a),id(b),id(c))\n",
    "n=3\n",
    "f=5\n",
    "e=6\n",
    "print(id(n),id(f),id(e))"
   ]
  },
  {
   "cell_type": "code",
   "execution_count": null,
   "id": "6827a92c",
   "metadata": {},
   "outputs": [],
   "source": []
  },
  {
   "cell_type": "code",
   "execution_count": null,
   "id": "18b3d001",
   "metadata": {},
   "outputs": [],
   "source": []
  },
  {
   "cell_type": "code",
   "execution_count": null,
   "id": "442badb8",
   "metadata": {},
   "outputs": [],
   "source": []
  }
 ],
 "metadata": {
  "kernelspec": {
   "display_name": "Python 3 (ipykernel)",
   "language": "python",
   "name": "python3"
  },
  "language_info": {
   "codemirror_mode": {
    "name": "ipython",
    "version": 3
   },
   "file_extension": ".py",
   "mimetype": "text/x-python",
   "name": "python",
   "nbconvert_exporter": "python",
   "pygments_lexer": "ipython3",
   "version": "3.9.12"
  }
 },
 "nbformat": 4,
 "nbformat_minor": 5
}
