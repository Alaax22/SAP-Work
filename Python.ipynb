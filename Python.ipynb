{
 "cells": [
  {
   "cell_type": "code",
   "execution_count": null,
   "id": "509e5a58",
   "metadata": {},
   "outputs": [
    {
     "name": "stdout",
     "output_type": "stream",
     "text": [
      "1.add 2.sub 3.mul 4.div 5.mod\n"
     ]
    }
   ],
   "source": [
    "print(\"1.add 2.sub 3.mul 4.div 5.mod\")\n",
    "choice=int(input(\"Enter your choice: \"))\n",
    "\n",
    "n1=int(input(\"enter 1st number: \"))\n",
    "n2=int(input(\"enter 2nd number: \"))\n",
    "\n",
    "\n",
    "if choice==1:\n",
    "    print(n1+n2)\n",
    "    \n",
    "elif choice==2:\n",
    "    print(n1-n2)\n",
    "    \n",
    "elif choice==3:\n",
    "    print(n1*n2)\n",
    "    \n",
    "elif choice==4:\n",
    "    print(n1/n2)\n",
    "    \n",
    "elif choice==5:\n",
    "    print(n1%n2)\n",
    "    \n",
    "else:\n",
    "    print(\"none\")\n",
    "\n",
    "\n",
    "\n",
    "\n",
    "'''print(add(5,2))\n",
    "print(sub(4,5))\n",
    "print(mul(5,6))\n",
    "print(mod(3,4))'''"
   ]
  },
  {
   "cell_type": "code",
   "execution_count": null,
   "id": "6746d236",
   "metadata": {},
   "outputs": [
    {
     "name": "stdout",
     "output_type": "stream",
     "text": [
      "enter number of terms you want to print: 4\n"
     ]
    }
   ],
   "source": [
    "#fibonacci series\n",
    "\n",
    "n=int(input(\"enter number of terms you want to print: \"))\n",
    "\n",
    "def fib(n):\n",
    "    return(fib(n-1)+fib(n-2))\n",
    "\n",
    "for i in range (n):\n",
    "    print(fib(i))\n",
    "    \n",
    "\n",
    "\n",
    "    "
   ]
  },
  {
   "cell_type": "code",
   "execution_count": 5,
   "id": "78d7cb0e",
   "metadata": {},
   "outputs": [
    {
     "name": "stdout",
     "output_type": "stream",
     "text": [
      "enter 1st num: 3\n",
      "enter 2st num: 56\n",
      "enter 3st num: 4\n",
      "4 is the greates!\n"
     ]
    }
   ],
   "source": [
    "num1=int(input(\"enter 1st num: \"))\n",
    "num2=int(input(\"enter 2st num: \"))\n",
    "num3=int(input(\"enter 3st num: \"))\n",
    "\n",
    "if num1==num2 and num2==num3:\n",
    "    print(\"all numbers are same!\")\n"
   ]
  },
  {
   "cell_type": "code",
   "execution_count": 10,
   "id": "3a55e752",
   "metadata": {},
   "outputs": [
    {
     "name": "stdout",
     "output_type": "stream",
     "text": [
      "(4, 3)\n"
     ]
    }
   ],
   "source": [
    "#swap\n",
    "a=3\n",
    "b=4\n",
    "def swap(a,b):\n",
    "   \n",
    "    temp=a\n",
    "    a=b\n",
    "    b=temp\n",
    "    \n",
    "    return(a,b)\n",
    "print(swap(a,b))\n",
    "        "
   ]
  },
  {
   "cell_type": "code",
   "execution_count": 4,
   "id": "3873059c",
   "metadata": {},
   "outputs": [
    {
     "name": "stdout",
     "output_type": "stream",
     "text": [
      "enter a number: 64\n",
      "8\n"
     ]
    }
   ],
   "source": [
    "#square root\n",
    "\n",
    "num=int(input(\"enter a number: \"))\n",
    "\n",
    "for i in range(2000):\n",
    "    if i*i==num:\n",
    "        print(i)\n",
    "        break\n",
    "    else:\n",
    "        continue\n",
    "    \n",
    "    "
   ]
  },
  {
   "cell_type": "code",
   "execution_count": 23,
   "id": "5f947cc9",
   "metadata": {},
   "outputs": [
    {
     "name": "stdout",
     "output_type": "stream",
     "text": [
      "64\n",
      "1\n",
      "(1, 56, 34, 64, 23, 44, 'cse', 6, 7, 34, 'hello')\n",
      "('himani', 'gauri')\n",
      "['laxita', 'harshita', 'himani', 'gauri']\n",
      "both are not same !\n",
      "None\n",
      "(1, 56, 34, 64, 23, 44)\n",
      "('laxita', 'harshita', 'himani', 'gauri')\n"
     ]
    }
   ],
   "source": [
    "tuple1=(1,56,34,64,23,44)\n",
    "tuple2=(\"laxita\",\"harshita\",\"himani\",\"gauri\")\n",
    "tuple3=(\"cse\",6,7,34,\"hello\")\n",
    "\n",
    "maxtup=print(max(tuple1))\n",
    "mintup=print(min(tuple1))\n",
    "concate=print(tuple1+tuple3)\n",
    "slicetup=print(tuple2[2:5])\n",
    "l=print(list(tuple2))\n",
    "\n",
    "def cmp():\n",
    "    if tuple1==tuple2:\n",
    "        print(\"both tuple 1 and 2 are same!\")\n",
    "        \n",
    "    else:\n",
    "        print(\"both are not same !\")\n",
    "        \n",
    "print(cmp())\n",
    "print(tuple1)\n",
    "print(tuple2)"
   ]
  },
  {
   "cell_type": "code",
   "execution_count": 6,
   "id": "c2fc4047",
   "metadata": {},
   "outputs": [
    {
     "name": "stdout",
     "output_type": "stream",
     "text": [
      "1234\n"
     ]
    }
   ],
   "source": [
    "#sum of digit\n",
    "p=1234%10000\n",
    "print(p)"
   ]
  },
  {
   "cell_type": "code",
   "execution_count": 6,
   "id": "5e263647",
   "metadata": {},
   "outputs": [
    {
     "name": "stdout",
     "output_type": "stream",
     "text": [
      "enter a number: 23\n",
      "3\n"
     ]
    }
   ],
   "source": [
    "num=int(input(\"enter a number: \"))\n",
    "sum=0\n",
    "\n",
    "def sum1():\n",
    "    \n",
    "    while(num>0):\n",
    "        sum=0\n",
    "        sum=sum+num%10\n",
    "        return sum\n",
    "\n",
    "print(sum1())"
   ]
  },
  {
   "cell_type": "code",
   "execution_count": null,
   "id": "9b3590bf",
   "metadata": {},
   "outputs": [],
   "source": []
  },
  {
   "cell_type": "code",
   "execution_count": null,
   "id": "3a6dc458",
   "metadata": {},
   "outputs": [],
   "source": []
  },
  {
   "cell_type": "code",
   "execution_count": 4,
   "id": "151ec4a3",
   "metadata": {},
   "outputs": [
    {
     "name": "stdout",
     "output_type": "stream",
     "text": [
      "nuumber is prime\n",
      "None\n"
     ]
    }
   ],
   "source": [
    "def prime(n):\n",
    "    if n<=1:\n",
    "        return(\"not a prime\")\n",
    "    else:\n",
    "        if n%2!=0 or n==2:\n",
    "            print(\"nuumber is prime\")\n",
    "#n=int(input(\"enter any number: \"))\n",
    "print(prime(7))"
   ]
  },
  {
   "cell_type": "code",
   "execution_count": 10,
   "id": "6c875740",
   "metadata": {},
   "outputs": [
    {
     "name": "stdout",
     "output_type": "stream",
     "text": [
      "<class 'int'>\n",
      "<class 'float'>\n",
      "7\n",
      "<class 'bool'>\n",
      "<class 'str'>\n"
     ]
    }
   ],
   "source": [
    "n1=5\n",
    "print(type(n1))\n",
    "n2=7.8\n",
    "print(type(n2))\n",
    "n3=int(n2)\n",
    "print(n3)\n",
    "b=True\n",
    "print(type(b))\n",
    "s=\"laxita\"\n",
    "print(type(s))"
   ]
  },
  {
   "cell_type": "code",
   "execution_count": 37,
   "id": "4d07d7dc",
   "metadata": {},
   "outputs": [
    {
     "name": "stdout",
     "output_type": "stream",
     "text": [
      "40320\n"
     ]
    }
   ],
   "source": [
    "#factorial\n",
    "\n",
    "def fact(n):\n",
    "    if n<=1:\n",
    "        return 1\n",
    "    else:\n",
    "        return (n*fact(n-1))\n",
    "print(fact(8))"
   ]
  },
  {
   "cell_type": "code",
   "execution_count": 13,
   "id": "d8af7ffa",
   "metadata": {},
   "outputs": [
    {
     "name": "stdout",
     "output_type": "stream",
     "text": [
      "2416053479728 2416053479728 2416053479728\n",
      "2416053479792 2416053479856 2416053479888\n"
     ]
    }
   ],
   "source": [
    "a=b=c=1\n",
    "print(id(a),id(b),id(c))\n",
    "n=3\n",
    "f=5\n",
    "e=6\n",
    "print(id(n),id(f),id(e))"
   ]
  },
  {
   "cell_type": "code",
   "execution_count": 36,
   "id": "3b9a09ce",
   "metadata": {},
   "outputs": [
    {
     "name": "stdout",
     "output_type": "stream",
     "text": [
      "let's learn python\n",
      "let's l\n",
      "learn python\n",
      "t's le\n",
      " learn\n"
     ]
    }
   ],
   "source": [
    "str=\"let's learn python\"\n",
    "print(str[:])\n",
    "print(str[:7])\n",
    "print(str[6:])\n",
    "print(str[2:8])\n",
    "print(str[5:11])"
   ]
  },
  {
   "cell_type": "code",
   "execution_count": 25,
   "id": "1a42b689",
   "metadata": {},
   "outputs": [
    {
     "name": "stdout",
     "output_type": "stream",
     "text": [
      "let's learn pytho\n",
      "pyth\n",
      "\n",
      "n\n",
      "let's learn python\n",
      "\n"
     ]
    }
   ],
   "source": [
    "print(str[:-1])\n",
    "print(str[-6:-2])\n",
    "print(str[-2:-6]) #nothing will be printed\n",
    "print(str[-1:])\n",
    "print(str[-18:])\n",
    "print(str[-1:-18])"
   ]
  },
  {
   "cell_type": "code",
   "execution_count": 34,
   "id": "345682b5",
   "metadata": {},
   "outputs": [
    {
     "name": "stdout",
     "output_type": "stream",
     "text": [
      " learn\n"
     ]
    }
   ],
   "source": [
    "\n",
    "print(str[-13:-7])\n"
   ]
  },
  {
   "cell_type": "code",
   "execution_count": 53,
   "id": "47c81e67",
   "metadata": {},
   "outputs": [
    {
     "name": "stdout",
     "output_type": "stream",
     "text": [
      " laxita asodiya santosh bhai\n"
     ]
    }
   ],
   "source": [
    "string=\"{1}{0}{2}\".format(\"asodiya \",\" laxita \",\"santosh bhai\")\n",
    "print(string)\n",
    "#positional format"
   ]
  },
  {
   "cell_type": "code",
   "execution_count": 59,
   "id": "865406ea",
   "metadata": {},
   "outputs": [
    {
     "name": "stdout",
     "output_type": "stream",
     "text": [
      "university parul cse \n",
      "cse university parul \n"
     ]
    }
   ],
   "source": [
    "string1=\"{b}{a}{c}\".format(a=\"parul \",b=\"university \",c=\"cse \")\n",
    "print(string1)\n",
    "string1=\"{c}{b}{a}\".format(a=\"parul \",b=\"university \",c=\"cse \")\n",
    "print(string1)\n",
    "#key word format"
   ]
  },
  {
   "cell_type": "code",
   "execution_count": 63,
   "id": "329ee02b",
   "metadata": {},
   "outputs": [
    {
     "name": "stdout",
     "output_type": "stream",
     "text": [
      "[1, 4, 5, 'laxita', 8, 'himani', 7, 30, 12]\n",
      "[1, 4, 5, 'laxita', 8, 1, 4, 5, 'laxita', 8]\n",
      "['himani', 7, 30, 12, 1, 4, 5, 'laxita', 8]\n"
     ]
    }
   ],
   "source": [
    "L1=[1,4,5,'laxita',8]\n",
    "L2=['himani',7,30,12]\n",
    "print(L1+L2)\n",
    "print(2*L1)\n",
    "print(L2+L1)"
   ]
  },
  {
   "cell_type": "code",
   "execution_count": 65,
   "id": "fd026008",
   "metadata": {},
   "outputs": [
    {
     "name": "stdout",
     "output_type": "stream",
     "text": [
      "enter any random seq2 43 54 6 45 34\n",
      "['2', '43', '54', '6', '45', '34']\n"
     ]
    }
   ],
   "source": [
    "str=input(\"enter any random seq\") # 2 43 54 6 45 34\n",
    "result=str.split()\n",
    "print(result)"
   ]
  },
  {
   "cell_type": "code",
   "execution_count": 88,
   "id": "fcc54fac",
   "metadata": {},
   "outputs": [
    {
     "name": "stdout",
     "output_type": "stream",
     "text": [
      "enter any strings95 67 87\n",
      "['95', '67', '87']\n"
     ]
    }
   ],
   "source": [
    "str=input(\"enter any strings\")\n",
    "result=str.split()\n",
    "print(result)"
   ]
  },
  {
   "cell_type": "code",
   "execution_count": 67,
   "id": "808f0bc4",
   "metadata": {},
   "outputs": [
    {
     "name": "stdout",
     "output_type": "stream",
     "text": [
      "enter any random seq2 4 3 2 2 7 4\n",
      "['2', '4', '3', '2', '2', '7', '4']\n"
     ]
    }
   ],
   "source": [
    "str=input(\"enter any random seq\") \n",
    "result=str.split()\n",
    "print(result)"
   ]
  },
  {
   "cell_type": "code",
   "execution_count": 70,
   "id": "f5939f3d",
   "metadata": {},
   "outputs": [
    {
     "name": "stdout",
     "output_type": "stream",
     "text": [
      "['', 'chool i', ' for ', 'chool going ', 'tudent', '']\n"
     ]
    }
   ],
   "source": [
    "str1=\"school is for school going students\"\n",
    "l=str1.split('s')\n",
    "print(l)"
   ]
  },
  {
   "cell_type": "code",
   "execution_count": 72,
   "id": "8288c445",
   "metadata": {},
   "outputs": [
    {
     "name": "stdout",
     "output_type": "stream",
     "text": [
      "enter any number34 54 67 45676 8764\n",
      "['3', ' 5', ' 67 ', '5676 876', '']\n"
     ]
    }
   ],
   "source": [
    "str1=input(\"enter any number\")\n",
    "l=str1.split('4')\n",
    "print(l)"
   ]
  },
  {
   "cell_type": "code",
   "execution_count": 73,
   "id": "0923e6af",
   "metadata": {},
   "outputs": [
    {
     "name": "stdout",
     "output_type": "stream",
     "text": [
      "('laxita', 45, 'himani', 89, 55, 95, 45, 78, 92, 45, 'alex')\n"
     ]
    }
   ],
   "source": [
    "tuple=(\"laxita\",45,\"himani\",89,55,95)\n",
    "tup=(45,78,92,45,\"alex\")\n",
    "print(tuple+tup)"
   ]
  },
  {
   "cell_type": "code",
   "execution_count": 77,
   "id": "5c273033",
   "metadata": {},
   "outputs": [
    {
     "name": "stdout",
     "output_type": "stream",
     "text": [
      "(89, 55, 95)\n",
      "('laxita', 45, 'himani', 89)\n",
      "55\n",
      "(45, 'himani', 89)\n"
     ]
    }
   ],
   "source": [
    "print(tuple[3:])\n",
    "print(tuple[:-2])\n",
    "print(tuple[4])\n",
    "print(tuple[-5:-2])"
   ]
  },
  {
   "cell_type": "code",
   "execution_count": 76,
   "id": "bd9f47b5",
   "metadata": {},
   "outputs": [
    {
     "name": "stdout",
     "output_type": "stream",
     "text": [
      "(45, 78, 92, 45, 'alex', 45, 78, 92, 45, 'alex', 45, 78, 92, 45, 'alex')\n"
     ]
    }
   ],
   "source": [
    "print(tup*3)"
   ]
  },
  {
   "cell_type": "code",
   "execution_count": 79,
   "id": "aece6843",
   "metadata": {},
   "outputs": [
    {
     "name": "stdout",
     "output_type": "stream",
     "text": [
      "[1000, 7, 7, 89, 97, 43]\n"
     ]
    },
    {
     "ename": "TypeError",
     "evalue": "'tuple' object does not support item assignment",
     "output_type": "error",
     "traceback": [
      "\u001b[1;31m---------------------------------------------------------------------------\u001b[0m",
      "\u001b[1;31mTypeError\u001b[0m                                 Traceback (most recent call last)",
      "Input \u001b[1;32mIn [79]\u001b[0m, in \u001b[0;36m<cell line: 6>\u001b[1;34m()\u001b[0m\n\u001b[0;32m      4\u001b[0m L[\u001b[38;5;241m0\u001b[39m]\u001b[38;5;241m=\u001b[39m\u001b[38;5;241m1000\u001b[39m\n\u001b[0;32m      5\u001b[0m \u001b[38;5;28mprint\u001b[39m(L)\n\u001b[1;32m----> 6\u001b[0m \u001b[38;5;28mtuple\u001b[39m[\u001b[38;5;241m0\u001b[39m]\u001b[38;5;241m=\u001b[39m\u001b[38;5;241m1000\u001b[39m\n",
      "\u001b[1;31mTypeError\u001b[0m: 'tuple' object does not support item assignment"
     ]
    }
   ],
   "source": [
    "#updation in tuple\n",
    "L=[56,7,7,89,97,43]\n",
    "\n",
    "L[0]=1000\n",
    "print(L)\n",
    "tuple[0]=1000\n"
   ]
  },
  {
   "cell_type": "code",
   "execution_count": 80,
   "id": "1258b5ec",
   "metadata": {},
   "outputs": [
    {
     "name": "stdout",
     "output_type": "stream",
     "text": [
      "{'name': 'laxita', 95: 'roll number', 'dep': 'cse'}\n"
     ]
    }
   ],
   "source": [
    "dict={}\n",
    "dict['name']=\"laxita\"\n",
    "dict[95]=\"roll number\"\n",
    "dict[\"dep\"]=\"cse\"\n",
    "print(dict)"
   ]
  },
  {
   "cell_type": "code",
   "execution_count": 82,
   "id": "a394b0b4",
   "metadata": {},
   "outputs": [
    {
     "name": "stdout",
     "output_type": "stream",
     "text": [
      "dict_keys(['name', 95, 'dep']) dict_values(['laxita', 'roll number', 'cse'])\n"
     ]
    }
   ],
   "source": [
    "print(dict.keys(),dict.values())"
   ]
  },
  {
   "cell_type": "code",
   "execution_count": 85,
   "id": "fee2f537",
   "metadata": {},
   "outputs": [
    {
     "name": "stdout",
     "output_type": "stream",
     "text": [
      "laxita roll number cse\n"
     ]
    }
   ],
   "source": [
    "print(dict['name'],dict[95],dict['dep'])"
   ]
  },
  {
   "cell_type": "code",
   "execution_count": 87,
   "id": "de298e19",
   "metadata": {},
   "outputs": [
    {
     "name": "stdout",
     "output_type": "stream",
     "text": [
      "{'name': 'laxita', 95: 'roll number', 'dep': 'cse', 'marks': 97}\n"
     ]
    }
   ],
   "source": [
    "dict[\"marks\"]=97 \n",
    "print(dict)"
   ]
  },
  {
   "cell_type": "code",
   "execution_count": 89,
   "id": "ba26d1d7",
   "metadata": {},
   "outputs": [
    {
     "name": "stdout",
     "output_type": "stream",
     "text": [
      "{'name': 'laxita', 95: 'roll number', 'dep': 'AI', 'marks': 97}\n"
     ]
    }
   ],
   "source": [
    "dict[\"dep\"]=\"AI\"\n",
    "print(dict)"
   ]
  },
  {
   "cell_type": "code",
   "execution_count": 91,
   "id": "98f78f30",
   "metadata": {},
   "outputs": [
    {
     "name": "stdout",
     "output_type": "stream",
     "text": [
      "3.0\n",
      "3\n",
      "48\n",
      "52.800000000000004\n"
     ]
    }
   ],
   "source": [
    "print(12/4)\n",
    "print(12//4)\n",
    "print(12*4)\n",
    "print(12*4.4)"
   ]
  },
  {
   "cell_type": "code",
   "execution_count": 96,
   "id": "eab185c9",
   "metadata": {},
   "outputs": [
    {
     "name": "stdout",
     "output_type": "stream",
     "text": [
      "4\n",
      "5\n",
      "6\n",
      "7\n",
      "8\n",
      "9\n"
     ]
    }
   ],
   "source": [
    "for i in range(4,10,1):\n",
    "      print(i) \n"
   ]
  }
 ],
 "metadata": {
  "kernelspec": {
   "display_name": "Python 3 (ipykernel)",
   "language": "python",
   "name": "python3"
  },
  "language_info": {
   "codemirror_mode": {
    "name": "ipython",
    "version": 3
   },
   "file_extension": ".py",
   "mimetype": "text/x-python",
   "name": "python",
   "nbconvert_exporter": "python",
   "pygments_lexer": "ipython3",
   "version": "3.9.12"
  }
 },
 "nbformat": 4,
 "nbformat_minor": 5
}
