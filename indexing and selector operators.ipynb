{
 "cells": [
  {
   "cell_type": "code",
   "execution_count": 6,
   "id": "c5843ef9",
   "metadata": {},
   "outputs": [
    {
     "name": "stdout",
     "output_type": "stream",
     "text": [
      "Name\n",
      "Avery Bradley    Boston Celtics\n",
      "Jae Crowder      Boston Celtics\n",
      "John Holland     Boston Celtics\n",
      "R.J. Hunter      Boston Celtics\n",
      "Jonas Jerebko    Boston Celtics\n",
      "                      ...      \n",
      "Trey Lyles            Utah Jazz\n",
      "Shelvin Mack          Utah Jazz\n",
      "Raul Neto             Utah Jazz\n",
      "Tibor Pleiss          Utah Jazz\n",
      "Jeff Withey           Utah Jazz\n",
      "Name: Team, Length: 457, dtype: object\n"
     ]
    }
   ],
   "source": [
    "#printing data values\n",
    "\n",
    "import pandas as pd\n",
    "\n",
    "data=pd.read_csv(\"nba-2.csv\",index_col=\"Name\")\n",
    "\n",
    "first=data[\"Team\"]\n",
    "\n",
    "print(first)"
   ]
  },
  {
   "cell_type": "code",
   "execution_count": 8,
   "id": "fdd60a88",
   "metadata": {},
   "outputs": [
    {
     "name": "stdout",
     "output_type": "stream",
     "text": [
      "                  Team  Age            College\n",
      "Number                                        \n",
      "0       Boston Celtics   25              Texas\n",
      "99      Boston Celtics   25          Marquette\n",
      "30      Boston Celtics   27  Boston University\n",
      "28      Boston Celtics   22      Georgia State\n",
      "8       Boston Celtics   29                NaN\n",
      "...                ...  ...                ...\n",
      "41           Utah Jazz   20           Kentucky\n",
      "8            Utah Jazz   26             Butler\n",
      "25           Utah Jazz   24                NaN\n",
      "21           Utah Jazz   26                NaN\n",
      "24           Utah Jazz   26             Kansas\n",
      "\n",
      "[457 rows x 3 columns]\n"
     ]
    }
   ],
   "source": [
    "#printing data multiple value\n",
    "\n",
    "import pandas as pd\n",
    "\n",
    "data=pd.read_csv(\"nba-2.csv\",index_col=\"Number\")\n",
    "\n",
    "first=data[[\"Team\",\"Age\",\"College\"]]\n",
    "\n",
    "print(first)"
   ]
  },
  {
   "cell_type": "code",
   "execution_count": 12,
   "id": "5e2d6d26",
   "metadata": {},
   "outputs": [
    {
     "name": "stdout",
     "output_type": "stream",
     "text": [
      "Team        Boston Celtics\n",
      "Number                   0\n",
      "Position                PG\n",
      "Age                     25\n",
      "Height               2-Jun\n",
      "Weight                 180\n",
      "College              Texas\n",
      "Salary           7730337.0\n",
      "Name: Avery Bradley, dtype: object \n",
      "\n",
      "\n",
      " Team           Boston Celtics\n",
      "Number                     30\n",
      "Position                   SG\n",
      "Age                        27\n",
      "Height                  5-Jun\n",
      "Weight                    205\n",
      "College     Boston University\n",
      "Salary                    NaN\n",
      "Name: John Holland, dtype: object\n"
     ]
    }
   ],
   "source": [
    "#retrive data from csv file\n",
    "\n",
    "import pandas as pd\n",
    "\n",
    "data=pd.read_csv(\"nba-2.csv\",index_col=\"Name\")\n",
    "\n",
    "first=data.loc[\"Avery Bradley\"]\n",
    "second=data.loc[\"John Holland\"]\n",
    "\n",
    "print(first,\"\\n\\n\\n\",second)"
   ]
  },
  {
   "cell_type": "code",
   "execution_count": 15,
   "id": "29894666",
   "metadata": {},
   "outputs": [
    {
     "name": "stdout",
     "output_type": "stream",
     "text": [
      "                           Name  Number Position  Age  Height  Weight  \\\n",
      "Team                                                                    \n",
      "Boston Celtics    Avery Bradley       0       PG   25   2-Jun     180   \n",
      "Boston Celtics      Jae Crowder      99       SF   25   6-Jun     235   \n",
      "Boston Celtics     John Holland      30       SG   27   5-Jun     205   \n",
      "Boston Celtics      R.J. Hunter      28       SG   22   5-Jun     185   \n",
      "Boston Celtics    Jonas Jerebko       8       PF   29  10-Jun     231   \n",
      "Boston Celtics     Amir Johnson      90       PF   29   9-Jun     240   \n",
      "Boston Celtics    Jordan Mickey      55       PF   21   8-Jun     235   \n",
      "Boston Celtics     Kelly Olynyk      41        C   25  Jul-00     238   \n",
      "Boston Celtics     Terry Rozier      12       PG   22   2-Jun     190   \n",
      "Boston Celtics     Marcus Smart      36       PG   22   4-Jun     220   \n",
      "Boston Celtics  Jared Sullinger       7        C   24   9-Jun     260   \n",
      "Boston Celtics    Isaiah Thomas       4       PG   27   9-May     185   \n",
      "Boston Celtics      Evan Turner      11       SG   27   7-Jun     220   \n",
      "Boston Celtics      James Young      13       SG   20   6-Jun     215   \n",
      "Boston Celtics     Tyler Zeller      44        C   26  Jul-00     253   \n",
      "\n",
      "                          College      Salary  \n",
      "Team                                           \n",
      "Boston Celtics              Texas   7730337.0  \n",
      "Boston Celtics          Marquette   6796117.0  \n",
      "Boston Celtics  Boston University         NaN  \n",
      "Boston Celtics      Georgia State   1148640.0  \n",
      "Boston Celtics                NaN   5000000.0  \n",
      "Boston Celtics                NaN  12000000.0  \n",
      "Boston Celtics                LSU   1170960.0  \n",
      "Boston Celtics            Gonzaga   2165160.0  \n",
      "Boston Celtics         Louisville   1824360.0  \n",
      "Boston Celtics     Oklahoma State   3431040.0  \n",
      "Boston Celtics         Ohio State   2569260.0  \n",
      "Boston Celtics         Washington   6912869.0  \n",
      "Boston Celtics         Ohio State   3425510.0  \n",
      "Boston Celtics           Kentucky   1749840.0  \n",
      "Boston Celtics     North Carolina   2616975.0   \n",
      "\n",
      "\n",
      "                      Name  Number Position  Age  Height  Weight       College  \\\n",
      "Team                                                                            \n",
      "Utah Jazz   Trevor Booker      33       PF   28   8-Jun     228       Clemson   \n",
      "Utah Jazz      Trey Burke       3       PG   23   1-Jun     191      Michigan   \n",
      "Utah Jazz      Alec Burks      10       SG   24   6-Jun     214      Colorado   \n",
      "Utah Jazz      Dante Exum      11       PG   20   6-Jun     190           NaN   \n",
      "Utah Jazz  Derrick Favors      15       PF   24  10-Jun     265  Georgia Tech   \n",
      "Utah Jazz     Rudy Gobert      27        C   23   1-Jul     245           NaN   \n",
      "Utah Jazz  Gordon Hayward      20       SF   26   8-Jun     226        Butler   \n",
      "Utah Jazz     Rodney Hood       5       SG   23   8-Jun     206          Duke   \n",
      "Utah Jazz      Joe Ingles       2       SF   28   8-Jun     226           NaN   \n",
      "Utah Jazz   Chris Johnson      23       SF   26   6-Jun     206        Dayton   \n",
      "Utah Jazz      Trey Lyles      41       PF   20  10-Jun     234      Kentucky   \n",
      "Utah Jazz    Shelvin Mack       8       PG   26   3-Jun     203        Butler   \n",
      "Utah Jazz       Raul Neto      25       PG   24   1-Jun     179           NaN   \n",
      "Utah Jazz    Tibor Pleiss      21        C   26   3-Jul     256           NaN   \n",
      "Utah Jazz     Jeff Withey      24        C   26  Jul-00     231        Kansas   \n",
      "\n",
      "               Salary  \n",
      "Team                   \n",
      "Utah Jazz   4775000.0  \n",
      "Utah Jazz   2658240.0  \n",
      "Utah Jazz   9463484.0  \n",
      "Utah Jazz   3777720.0  \n",
      "Utah Jazz  12000000.0  \n",
      "Utah Jazz   1175880.0  \n",
      "Utah Jazz  15409570.0  \n",
      "Utah Jazz   1348440.0  \n",
      "Utah Jazz   2050000.0  \n",
      "Utah Jazz    981348.0  \n",
      "Utah Jazz   2239800.0  \n",
      "Utah Jazz   2433333.0  \n",
      "Utah Jazz    900000.0  \n",
      "Utah Jazz   2900000.0  \n",
      "Utah Jazz    947276.0  \n"
     ]
    }
   ],
   "source": [
    "#loc method retrive data\n",
    "\n",
    "import pandas as pd\n",
    "\n",
    "data=pd.read_csv(\"nba-2.csv\",index_col=\"Team\")\n",
    "\n",
    "first=data.loc[\"Boston Celtics\"]\n",
    "second=data.loc[\"Utah Jazz\"]\n",
    "\n",
    "print(first,\"\\n\\n\\n\",second)"
   ]
  },
  {
   "cell_type": "code",
   "execution_count": 18,
   "id": "83a1827c",
   "metadata": {},
   "outputs": [
    {
     "name": "stdout",
     "output_type": "stream",
     "text": [
      "                         Team  Number Position  Age Height  Weight  \\\n",
      "Name                                                                 \n",
      "Avery Bradley  Boston Celtics       0       PG   25  2-Jun     180   \n",
      "John Holland   Boston Celtics      30       SG   27  5-Jun     205   \n",
      "\n",
      "                         College     Salary  \n",
      "Name                                         \n",
      "Avery Bradley              Texas  7730337.0  \n",
      "John Holland   Boston University        NaN  \n"
     ]
    }
   ],
   "source": [
    "#loc method retrive data\n",
    "\n",
    "import pandas as pd\n",
    "\n",
    "data=pd.read_csv(\"nba-2.csv\",index_col=\"Name\")\n",
    "\n",
    "first=data.loc[[\"Avery Bradley\",\"John Holland\"]]\n",
    "\n",
    "\n",
    "print(first)"
   ]
  },
  {
   "cell_type": "code",
   "execution_count": 19,
   "id": "c29e0e6d",
   "metadata": {},
   "outputs": [
    {
     "name": "stdout",
     "output_type": "stream",
     "text": [
      "                           Name  Number Position  Age  Height  Weight  \\\n",
      "Team                                                                    \n",
      "Boston Celtics    Avery Bradley       0       PG   25   2-Jun     180   \n",
      "Boston Celtics      Jae Crowder      99       SF   25   6-Jun     235   \n",
      "Boston Celtics     John Holland      30       SG   27   5-Jun     205   \n",
      "Boston Celtics      R.J. Hunter      28       SG   22   5-Jun     185   \n",
      "Boston Celtics    Jonas Jerebko       8       PF   29  10-Jun     231   \n",
      "Boston Celtics     Amir Johnson      90       PF   29   9-Jun     240   \n",
      "Boston Celtics    Jordan Mickey      55       PF   21   8-Jun     235   \n",
      "Boston Celtics     Kelly Olynyk      41        C   25  Jul-00     238   \n",
      "Boston Celtics     Terry Rozier      12       PG   22   2-Jun     190   \n",
      "Boston Celtics     Marcus Smart      36       PG   22   4-Jun     220   \n",
      "Boston Celtics  Jared Sullinger       7        C   24   9-Jun     260   \n",
      "Boston Celtics    Isaiah Thomas       4       PG   27   9-May     185   \n",
      "Boston Celtics      Evan Turner      11       SG   27   7-Jun     220   \n",
      "Boston Celtics      James Young      13       SG   20   6-Jun     215   \n",
      "Boston Celtics     Tyler Zeller      44        C   26  Jul-00     253   \n",
      "Utah Jazz         Trevor Booker      33       PF   28   8-Jun     228   \n",
      "Utah Jazz            Trey Burke       3       PG   23   1-Jun     191   \n",
      "Utah Jazz            Alec Burks      10       SG   24   6-Jun     214   \n",
      "Utah Jazz            Dante Exum      11       PG   20   6-Jun     190   \n",
      "Utah Jazz        Derrick Favors      15       PF   24  10-Jun     265   \n",
      "Utah Jazz           Rudy Gobert      27        C   23   1-Jul     245   \n",
      "Utah Jazz        Gordon Hayward      20       SF   26   8-Jun     226   \n",
      "Utah Jazz           Rodney Hood       5       SG   23   8-Jun     206   \n",
      "Utah Jazz            Joe Ingles       2       SF   28   8-Jun     226   \n",
      "Utah Jazz         Chris Johnson      23       SF   26   6-Jun     206   \n",
      "Utah Jazz            Trey Lyles      41       PF   20  10-Jun     234   \n",
      "Utah Jazz          Shelvin Mack       8       PG   26   3-Jun     203   \n",
      "Utah Jazz             Raul Neto      25       PG   24   1-Jun     179   \n",
      "Utah Jazz          Tibor Pleiss      21        C   26   3-Jul     256   \n",
      "Utah Jazz           Jeff Withey      24        C   26  Jul-00     231   \n",
      "\n",
      "                          College      Salary  \n",
      "Team                                           \n",
      "Boston Celtics              Texas   7730337.0  \n",
      "Boston Celtics          Marquette   6796117.0  \n",
      "Boston Celtics  Boston University         NaN  \n",
      "Boston Celtics      Georgia State   1148640.0  \n",
      "Boston Celtics                NaN   5000000.0  \n",
      "Boston Celtics                NaN  12000000.0  \n",
      "Boston Celtics                LSU   1170960.0  \n",
      "Boston Celtics            Gonzaga   2165160.0  \n",
      "Boston Celtics         Louisville   1824360.0  \n",
      "Boston Celtics     Oklahoma State   3431040.0  \n",
      "Boston Celtics         Ohio State   2569260.0  \n",
      "Boston Celtics         Washington   6912869.0  \n",
      "Boston Celtics         Ohio State   3425510.0  \n",
      "Boston Celtics           Kentucky   1749840.0  \n",
      "Boston Celtics     North Carolina   2616975.0  \n",
      "Utah Jazz                 Clemson   4775000.0  \n",
      "Utah Jazz                Michigan   2658240.0  \n",
      "Utah Jazz                Colorado   9463484.0  \n",
      "Utah Jazz                     NaN   3777720.0  \n",
      "Utah Jazz            Georgia Tech  12000000.0  \n",
      "Utah Jazz                     NaN   1175880.0  \n",
      "Utah Jazz                  Butler  15409570.0  \n",
      "Utah Jazz                    Duke   1348440.0  \n",
      "Utah Jazz                     NaN   2050000.0  \n",
      "Utah Jazz                  Dayton    981348.0  \n",
      "Utah Jazz                Kentucky   2239800.0  \n",
      "Utah Jazz                  Butler   2433333.0  \n",
      "Utah Jazz                     NaN    900000.0  \n",
      "Utah Jazz                     NaN   2900000.0  \n",
      "Utah Jazz                  Kansas    947276.0  \n"
     ]
    }
   ],
   "source": [
    "#loc method retrive data\n",
    "\n",
    "import pandas as pd\n",
    "\n",
    "data=pd.read_csv(\"nba-2.csv\",index_col=\"Team\")\n",
    "\n",
    "first=data.loc[[\"Boston Celtics\",\"Utah Jazz\"]]\n",
    "\n",
    "\n",
    "print(first)"
   ]
  },
  {
   "cell_type": "code",
   "execution_count": 20,
   "id": "428a10e8",
   "metadata": {},
   "outputs": [
    {
     "name": "stdout",
     "output_type": "stream",
     "text": [
      "                         Team  Number Position\n",
      "Name                                          \n",
      "Avery Bradley  Boston Celtics       0       PG\n",
      "Jae Crowder    Boston Celtics      99       SF\n",
      "John Holland   Boston Celtics      30       SG\n",
      "R.J. Hunter    Boston Celtics      28       SG\n",
      "Jonas Jerebko  Boston Celtics       8       PF\n",
      "...                       ...     ...      ...\n",
      "Trey Lyles          Utah Jazz      41       PF\n",
      "Shelvin Mack        Utah Jazz       8       PG\n",
      "Raul Neto           Utah Jazz      25       PG\n",
      "Tibor Pleiss        Utah Jazz      21        C\n",
      "Jeff Withey         Utah Jazz      24        C\n",
      "\n",
      "[457 rows x 3 columns]\n"
     ]
    }
   ],
   "source": [
    "#loc method retrive data\n",
    "\n",
    "import pandas as pd\n",
    "\n",
    "data=pd.read_csv(\"nba-2.csv\",index_col=\"Name\")\n",
    "#all rows and specific col\n",
    "first=data.loc[:,[\"Team\",\"Number\",\"Position\"]]\n",
    "\n",
    "\n",
    "print(first)"
   ]
  },
  {
   "cell_type": "code",
   "execution_count": 23,
   "id": "b361bd9a",
   "metadata": {},
   "outputs": [
    {
     "name": "stdout",
     "output_type": "stream",
     "text": [
      "Team        Boston Celtics\n",
      "Number                  28\n",
      "Position                SG\n",
      "Age                     22\n",
      "Height               5-Jun\n",
      "Weight                 185\n",
      "College      Georgia State\n",
      "Salary           1148640.0\n",
      "Name: R.J. Hunter, dtype: object\n"
     ]
    }
   ],
   "source": [
    "import pandas as pd\n",
    "\n",
    "data=pd.read_csv(\"nba-2.csv\",index_col=\"Name\")\n",
    "\n",
    "first=data.iloc[3]\n",
    "\n",
    "print(first)"
   ]
  },
  {
   "cell_type": "code",
   "execution_count": 24,
   "id": "6e8969a5",
   "metadata": {},
   "outputs": [
    {
     "name": "stdout",
     "output_type": "stream",
     "text": [
      "Team        Boston Celtics\n",
      "Number                   7\n",
      "Position                 C\n",
      "Age                     24\n",
      "Height               9-Jun\n",
      "Weight                 260\n",
      "College         Ohio State\n",
      "Salary           2569260.0\n",
      "Name: Jared Sullinger, dtype: object\n"
     ]
    }
   ],
   "source": [
    "import pandas as pd\n",
    "\n",
    "data=pd.read_csv(\"nba-2.csv\",index_col=\"Name\")\n",
    "#printing specific row\n",
    "first=data.iloc[10]\n",
    "\n",
    "print(first)"
   ]
  },
  {
   "cell_type": "code",
   "execution_count": 26,
   "id": "98d56f09",
   "metadata": {},
   "outputs": [
    {
     "name": "stdout",
     "output_type": "stream",
     "text": [
      "                        Team  Number Position  Age  Height  Weight  \\\n",
      "Name                                                                 \n",
      "R.J. Hunter   Boston Celtics      28       SG   22   5-Jun     185   \n",
      "Amir Johnson  Boston Celtics      90       PF   29   9-Jun     240   \n",
      "Kelly Olynyk  Boston Celtics      41        C   25  Jul-00     238   \n",
      "\n",
      "                    College      Salary  \n",
      "Name                                     \n",
      "R.J. Hunter   Georgia State   1148640.0  \n",
      "Amir Johnson            NaN  12000000.0  \n",
      "Kelly Olynyk        Gonzaga   2165160.0  \n"
     ]
    }
   ],
   "source": [
    "#multiple rows iloc\n",
    "\n",
    "import pandas as pd\n",
    "\n",
    "data=pd.read_csv(\"nba-2.csv\",index_col=\"Name\")\n",
    "\n",
    "first=data.iloc[[3,5,7]]\n",
    "\n",
    "print(first)"
   ]
  },
  {
   "cell_type": "code",
   "execution_count": 27,
   "id": "03b9bc70",
   "metadata": {},
   "outputs": [
    {
     "name": "stdout",
     "output_type": "stream",
     "text": [
      "                        Name  Number Position  Age  Height  Weight  \\\n",
      "Team                                                                 \n",
      "Boston Celtics   R.J. Hunter      28       SG   22   5-Jun     185   \n",
      "Boston Celtics  Amir Johnson      90       PF   29   9-Jun     240   \n",
      "Boston Celtics  Kelly Olynyk      41        C   25  Jul-00     238   \n",
      "\n",
      "                      College      Salary  \n",
      "Team                                       \n",
      "Boston Celtics  Georgia State   1148640.0  \n",
      "Boston Celtics            NaN  12000000.0  \n",
      "Boston Celtics        Gonzaga   2165160.0  \n"
     ]
    }
   ],
   "source": [
    "#multiple rows iloc\n",
    "\n",
    "import pandas as pd\n",
    "\n",
    "data=pd.read_csv(\"nba-2.csv\",index_col=\"Team\")\n",
    "\n",
    "first=data.iloc[[3,5,7]]\n",
    "\n",
    "print(first)"
   ]
  },
  {
   "cell_type": "code",
   "execution_count": 38,
   "id": "75837e75",
   "metadata": {},
   "outputs": [
    {
     "name": "stdout",
     "output_type": "stream",
     "text": [
      "                Number Position\n",
      "Team                           \n",
      "Boston Celtics      28       SG\n",
      "Boston Celtics      90       PF\n"
     ]
    }
   ],
   "source": [
    "#multiple rows iloc\n",
    "\n",
    "import pandas as pd\n",
    "\n",
    "data=pd.read_csv(\"nba-2.csv\",index_col=\"Team\")\n",
    "\n",
    "first=data.iloc[[3,5],[1,2]]\n",
    "\n",
    "print(first)"
   ]
  },
  {
   "cell_type": "code",
   "execution_count": null,
   "id": "1968b03b",
   "metadata": {},
   "outputs": [],
   "source": []
  }
 ],
 "metadata": {
  "kernelspec": {
   "display_name": "Python 3 (ipykernel)",
   "language": "python",
   "name": "python3"
  },
  "language_info": {
   "codemirror_mode": {
    "name": "ipython",
    "version": 3
   },
   "file_extension": ".py",
   "mimetype": "text/x-python",
   "name": "python",
   "nbconvert_exporter": "python",
   "pygments_lexer": "ipython3",
   "version": "3.9.12"
  }
 },
 "nbformat": 4,
 "nbformat_minor": 5
}
